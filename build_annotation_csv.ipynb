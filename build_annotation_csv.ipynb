{
 "cells": [
  {
   "cell_type": "code",
   "execution_count": 1,
   "metadata": {},
   "outputs": [],
   "source": [
    "from pathlib import Path"
   ]
  },
  {
   "cell_type": "code",
   "execution_count": 2,
   "metadata": {},
   "outputs": [],
   "source": [
    "def get_annotations(a_filter):\n",
    "    return [f for f in Path('annotations').glob('*_*_*') if a_filter(*map(int, f.name.split('_')))]\n",
    "\n",
    "def save_annotations_to_csv(annotations, file_name):\n",
    "    with open('{}.csv'.format(file_name), 'w+') as fcsv:\n",
    "        for a in annotations:\n",
    "            obj_id = a.name.split('_')[-1]\n",
    "            bbox = open(a).readline().replace('\\n', '')\n",
    "            img_path = a.parent.parent / \"dataset\" / \"{}_{}.png\".format(*a.name.split('_')[:2])\n",
    "            fcsv.write(str(img_path.absolute()) + \",\" + bbox + \",\" + obj_id + \"\\n\")"
   ]
  },
  {
   "cell_type": "code",
   "execution_count": 3,
   "metadata": {},
   "outputs": [
    {
     "name": "stdout",
     "output_type": "stream",
     "text": [
      "2389 572\n"
     ]
    }
   ],
   "source": [
    "a_train = get_annotations(lambda s, _, o: s <= 19 and o != 12)\n",
    "a_valid = get_annotations(lambda s, _, o: s >= 20 and o != 12)\n",
    "print(len(a_train), len(a_valid))\n",
    "\n",
    "save_annotations_to_csv(a_train, \"annotations_train\")\n",
    "save_annotations_to_csv(a_valid, \"annotations_valid\")"
   ]
  },
  {
   "cell_type": "code",
   "execution_count": 4,
   "metadata": {},
   "outputs": [],
   "source": [
    "# save classes \n",
    "with open('classes.csv', 'w+') as f:\n",
    "    for i in range(12):\n",
    "        f.write('{},{}\\n'.format(i, i))"
   ]
  },
  {
   "cell_type": "code",
   "execution_count": null,
   "metadata": {},
   "outputs": [],
   "source": []
  }
 ],
 "metadata": {
  "kernelspec": {
   "display_name": "Python 3",
   "language": "python",
   "name": "python3"
  },
  "language_info": {
   "codemirror_mode": {
    "name": "ipython",
    "version": 3
   },
   "file_extension": ".py",
   "mimetype": "text/x-python",
   "name": "python",
   "nbconvert_exporter": "python",
   "pygments_lexer": "ipython3",
   "version": "3.7.4"
  }
 },
 "nbformat": 4,
 "nbformat_minor": 2
}
